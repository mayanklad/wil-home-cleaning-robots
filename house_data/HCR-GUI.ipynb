{
 "cells": [
  {
   "cell_type": "code",
   "execution_count": 17,
   "id": "2f5fb563",
   "metadata": {},
   "outputs": [],
   "source": [
    "### GUI For Optimal Cleaning time and Efficiency recommendation system!!!!"
   ]
  },
  {
   "cell_type": "code",
   "execution_count": 2,
   "id": "601b303e",
   "metadata": {},
   "outputs": [],
   "source": [
    "import PySimpleGUI as sg"
   ]
  },
  {
   "cell_type": "code",
   "execution_count": 15,
   "id": "4b0cdcac",
   "metadata": {},
   "outputs": [],
   "source": [
    "# Store values taken as user input\n",
    "data = {}\n",
    "\n",
    "# All the stuff inside your window.\n",
    "layout = [  \n",
    "            [sg.Text('Surface Type'), sg.Combo(['Tile', 'Wood', 'Carpet','Concrete'])], \n",
    "            [sg.Text('Room Size'), sg.Input()],\n",
    "            [sg.Text('Dirtiness Level'), sg.Input()],\n",
    "            [sg.Button('time'), sg.Button('efficiency')],\n",
    "            [sg.Button('Cancel')] \n",
    "        ]\n",
    "\n",
    "\n",
    "# Create the Window\n",
    "window = sg.Window('HCR optimal cleaning time and efficiency', layout)\n",
    "\n",
    "# Event Loop to process \"events\" and get the \"values\" of the inputs\n",
    "while True:\n",
    "    \n",
    "    event, values = window.read()\n",
    "    \n",
    "    if event == 'time' or event == 'efficiency':\n",
    "        data['s_type'] = values[0]\n",
    "        data['room_size'] = values[1]\n",
    "        data['d_level'] = values[2]\n",
    "        break\n",
    "    \n",
    "    elif event == sg.WIN_CLOSED or event == 'Cancel':\n",
    "        break\n",
    "    \n",
    "\n",
    "window.close()"
   ]
  },
  {
   "cell_type": "code",
   "execution_count": 16,
   "id": "779360b1",
   "metadata": {},
   "outputs": [
    {
     "data": {
      "text/plain": [
       "{'s_type': 'Carpet', 'room_size': '38', 'd_level': '3'}"
      ]
     },
     "execution_count": 16,
     "metadata": {},
     "output_type": "execute_result"
    }
   ],
   "source": [
    "data"
   ]
  },
  {
   "cell_type": "code",
   "execution_count": null,
   "id": "cd3fcd10",
   "metadata": {},
   "outputs": [],
   "source": []
  },
  {
   "cell_type": "code",
   "execution_count": null,
   "id": "f0afb797",
   "metadata": {},
   "outputs": [],
   "source": []
  }
 ],
 "metadata": {
  "kernelspec": {
   "display_name": "Python 3 (ipykernel)",
   "language": "python",
   "name": "python3"
  },
  "language_info": {
   "codemirror_mode": {
    "name": "ipython",
    "version": 3
   },
   "file_extension": ".py",
   "mimetype": "text/x-python",
   "name": "python",
   "nbconvert_exporter": "python",
   "pygments_lexer": "ipython3",
   "version": "3.11.6"
  }
 },
 "nbformat": 4,
 "nbformat_minor": 5
}
